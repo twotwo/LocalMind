{
 "cells": [
  {
   "cell_type": "markdown",
   "id": "c8192b87-fcc4-4e56-87ce-d9f3bf4fd181",
   "metadata": {},
   "source": [
    "# 最新版 WebUI 操作界面\n",
    "\n",
    "[SD WebUI](https://github.com/AUTOMATIC1111/stable-diffusion-webui) 1.10.1。第一次运行选择 >> \"重启内核并运行所有单元格\"\n",
    "1. 下载预制版\n",
    "2. 适配系统环境：主要是更新 Torch 版本到 2.1.2，比较耗时。后续最好直接准备 Torch 2.1.2 的基础镜像\n",
    "3. 一键启动\n",
    "4. 连接服务端口到本地 `ssh -CNg -L 7860:127.0.0.1:7860 root@server`\n",
    "5. 访问服务：http://localhost:7860/\n",
    "\n",
    "之后再次运行只需要从第三步开始即可。"
   ]
  },
  {
   "cell_type": "markdown",
   "id": "3456727c-8648-4d41-9105-5cac336a3fa8",
   "metadata": {},
   "source": [
    "## 1. 克隆 WebUI 项目\n",
    "获取项目 https://github.com/AUTOMATIC1111/stable-diffusion-webui\n",
    "\n",
    "如果 github.com 连接失败，尝试用下面的命令安装\n",
    "`curl -L https://pkm.li3huo.com/local_mind/stable-diffusion-webui.tar.gz | tar -xz -C /root/gpufree-data`\n",
    "`git config --global --add safe.directory /root/gpufree-data/stable-diffusion-webui`\n",
    "\n",
    "或者从镜像网站进行克隆\n",
    "`cd /root/gpufree-data && git clone --recurse-submodules https://github.site/AUTOMATIC1111/stable-diffusion-webui`"
   ]
  },
  {
   "cell_type": "code",
   "execution_count": 1,
   "id": "516b5219-9f04-4539-8276-1aee0c784716",
   "metadata": {},
   "outputs": [],
   "source": [
    "!cd /root/gpufree-data && git clone --recurse-submodules https://github.com/AUTOMATIC1111/stable-diffusion-webui"
   ]
  },
  {
   "cell_type": "markdown",
   "id": "4b0a07cb-7189-4f47-b722-8a0d60220c3e",
   "metadata": {},
   "source": [
    "### 下载模型文件\n",
    "https://www.modelscope.cn/models/AI-ModelScope/stable-diffusion-v1-5/resolve/master/v1-5-pruned-emaonly.safetensors\n",
    "使用魔塔下载器: snapshot_download('GYMaster/v1-5-pruned-emaonly.safetensors', local_dir='/root/gpufree-data/stable-diffusion-webui/models/Stable-diffusion')\n",
    "\n",
    "其他可用模型: \n",
    "- snapshot_download('TheKernelZ/deliberate_v2', local_dir='/root/gpufree-data/stable-diffusion-webui/models/Stable-diffusion')\n",
    "- MusePublic/14_ckpt_SD_XL"
   ]
  },
  {
   "cell_type": "code",
   "execution_count": 2,
   "id": "3c0f5b69-c1a4-43a7-9399-95498b76b3ca",
   "metadata": {},
   "outputs": [],
   "source": [
    "# curl -L -C - https://www.modelscope.cn/models/AI-ModelScope/stable-diffusion-v1-5/resolve/master/v1-5-pruned-emaonly.safetensors -o /root/gpufree-data/stable-diffusion-webui/models/Stable-diffusion/v1-5-pruned-emaonly.safetensors\n",
    "!pip install modelscope\n",
    "\n",
    "from modelscope import snapshot_download\n",
    "snapshot_download('GYMaster/v1-5-pruned-emaonly.safetensors', local_dir='/root/gpufree-data/stable-diffusion-webui/models/Stable-diffusion')"
   ]
  },
  {
   "cell_type": "markdown",
   "id": "6a213b65-42d6-44c1-a8bb-1a20bc8ea322",
   "metadata": {},
   "source": [
    "### 2. 执行适配脚本\n",
    "适配 WebUI 运行环境的设置"
   ]
  },
  {
   "cell_type": "code",
   "execution_count": null,
   "id": "c6dc65fc-b1c2-4724-a60d-f35ced5bcb71",
   "metadata": {
    "scrolled": true
   },
   "outputs": [],
   "source": [
    "%%time\n",
    "!sh setup-webui.sh"
   ]
  },
  {
   "cell_type": "markdown",
   "id": "d5aec51e-024b-4b73-ab80-82c83edec26f",
   "metadata": {},
   "source": [
    "### 3. 启动 WebUI"
   ]
  },
  {
   "cell_type": "code",
   "execution_count": null,
   "id": "c127c01a-a0f9-4d0e-abbb-45ff6349996e",
   "metadata": {},
   "outputs": [
    {
     "name": "stdout",
     "output_type": "stream",
     "text": [
      "\n",
      "################################################################\n",
      "\u001b[1m\u001b[32mInstall script for stable-diffusion + Web UI\n",
      "\u001b[1m\u001b[34mTested on Debian 11 (Bullseye), Fedora 34+ and openSUSE Leap 15.4 or newer.\u001b[0m\n",
      "################################################################\n",
      "\n",
      "################################################################\n",
      "Running on \u001b[1m\u001b[32mroot\u001b[0m user\n",
      "################################################################\n",
      "\n",
      "################################################################\n",
      "Repo already cloned, using it as install directory\n",
      "################################################################\n",
      "\n",
      "################################################################\n",
      "Create and activate python venv\n",
      "################################################################\n",
      "\n",
      "################################################################\n",
      "Launching launch.py...\n",
      "################################################################\n",
      "glibc version is 2.35\n",
      "Check TCMalloc: libtcmalloc_minimal.so.4\n",
      "libtcmalloc_minimal.so.4 is linked with libc.so,execute LD_PRELOAD=/lib/x86_64-linux-gnu/libtcmalloc_minimal.so.4\n",
      "Python 3.10.12 (main, Nov  6 2024, 20:22:13) [GCC 11.4.0]\n",
      "Version: v1.10.1\n",
      "Commit hash: 82a973c04367123ae98bd9abdf80d9eda9b910e2\n",
      "Installing requirements\n",
      "Launching Web UI with arguments: \n",
      "/root/gpufree-data/stable-diffusion-webui/venv/lib/python3.10/site-packages/timm/models/layers/__init__.py:48: FutureWarning: Importing from timm.models.layers is deprecated, please import via timm.layers\n",
      "  warnings.warn(f\"Importing from {__name__} is deprecated, please import via timm.layers\", FutureWarning)\n",
      "no module 'xformers'. Processing without...\n",
      "no module 'xformers'. Processing without...\n",
      "No module 'xformers'. Proceeding without it.\n",
      "Calculating sha256 for /root/gpufree-data/stable-diffusion-webui/models/Stable-diffusion/v1-5-pruned-emaonly.safetensors: Running on local URL:  http://127.0.0.1:7860\n",
      "\n",
      "To create a public link, set `share=True` in `launch()`.\n",
      "Startup time: 88.2s (prepare environment: 82.8s, import torch: 2.8s, import gradio: 0.8s, setup paths: 0.5s, initialize shared: 0.2s, other imports: 0.3s, load scripts: 0.4s, create ui: 0.3s).\n",
      "6ce0161689b3853acaa03779ec93eafe75a02f4ced659bee03f50797806fa2fa\n",
      "Loading weights [6ce0161689] from /root/gpufree-data/stable-diffusion-webui/models/Stable-diffusion/v1-5-pruned-emaonly.safetensors\n",
      "Creating model from config: /root/gpufree-data/stable-diffusion-webui/configs/v1-inference.yaml\n",
      "Applying attention optimization: Doggettx... done.\n",
      "Model loaded in 9.1s (calculate hash: 3.7s, load config: 0.2s, create model: 0.3s, apply weights to model: 4.6s, calculate empty prompt: 0.1s).\n",
      "  0%|                                                    | 0/20 [00:00<?, ?it/s]\n",
      "  5%|██▏                                         | 1/20 [00:00<00:05,  3.63it/s]\u001b[A\n",
      " 20%|████████▊                                   | 4/20 [00:00<00:01, 11.12it/s]\u001b[A\n",
      " 35%|███████████████▍                            | 7/20 [00:00<00:00, 14.97it/s]\u001b[A\n",
      " 50%|█████████████████████▌                     | 10/20 [00:00<00:00, 17.45it/s]\u001b[A\n",
      " 65%|███████████████████████████▉               | 13/20 [00:00<00:00, 18.81it/s]\u001b[A\n",
      " 80%|██████████████████████████████████▍        | 16/20 [00:00<00:00, 19.00it/s]\u001b[A\n",
      "100%|███████████████████████████████████████████| 20/20 [00:01<00:00, 17.04it/s]\u001b[A\n",
      "\n",
      "Total progress: 100%|███████████████████████████| 20/20 [00:01<00:00, 17.65it/s]\u001b[A\n",
      "  0%|                                                    | 0/20 [00:00<?, ?it/s]\n",
      "  5%|██▏                                         | 1/20 [00:00<00:02,  6.64it/s]\u001b[A\n",
      " 20%|████████▊                                   | 4/20 [00:00<00:01, 15.33it/s]\u001b[A\n",
      " 35%|███████████████▍                            | 7/20 [00:00<00:00, 18.34it/s]\u001b[A\n",
      " 50%|█████████████████████▌                     | 10/20 [00:00<00:00, 19.79it/s]\u001b[A\n",
      " 65%|███████████████████████████▉               | 13/20 [00:00<00:00, 20.63it/s]\u001b[A\n",
      " 80%|██████████████████████████████████▍        | 16/20 [00:00<00:00, 21.19it/s]\u001b[A\n",
      "100%|███████████████████████████████████████████| 20/20 [00:01<00:00, 19.65it/s]\u001b[A\n",
      "\n",
      "Total progress: 100%|███████████████████████████| 20/20 [00:01<00:00, 18.06it/s]\u001b[A\n"
     ]
    }
   ],
   "source": [
    "import os\n",
    "os.environ['MPLBACKEND'] = 'agg'\n",
    "!/root/gpufree-data/stable-diffusion-webui/webui.sh"
   ]
  },
  {
   "cell_type": "markdown",
   "id": "cebdaa7d",
   "metadata": {},
   "source": [
    "## 4. 配置\n",
    "本地化目录下已经添加了中文，在 User Interface 的 Localization 下拉框中选择 `zh_CN`。应用后重启 WebUI 即可生效。\n",
    "\n",
    "扩展，可用地址 https://github.com/AUTOMATIC1111/stable-diffusion-webui-extensions/blob/extensions/index.json 无法访问时，可以修改为 https://mirror.ghproxy.com/https://raw.githubusercontent.com/AUTOMATIC1111/stable-diffusion-webui-extensions/master/index.json"
   ]
  }
 ],
 "metadata": {
  "kernelspec": {
   "display_name": "Python 3 (ipykernel)",
   "language": "python",
   "name": "python3"
  },
  "language_info": {
   "codemirror_mode": {
    "name": "ipython",
    "version": 3
   },
   "file_extension": ".py",
   "mimetype": "text/x-python",
   "name": "python",
   "nbconvert_exporter": "python",
   "pygments_lexer": "ipython3",
   "version": "3.10.12"
  }
 },
 "nbformat": 4,
 "nbformat_minor": 5
}
